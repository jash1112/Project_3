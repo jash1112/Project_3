{
 "cells": [
  {
   "cell_type": "code",
   "execution_count": 1,
   "id": "6c3545ee",
   "metadata": {
    "ExecuteTime": {
     "end_time": "2024-02-24T21:21:23.900249Z",
     "start_time": "2024-02-24T21:21:20.517545Z"
    }
   },
   "outputs": [],
   "source": [
    "import pandas as pd\n",
    "from pathlib import Path\n",
    "import numpy as np\n",
    "import matplotlib.pyplot as plt"
   ]
  },
  {
   "cell_type": "code",
   "execution_count": 2,
   "id": "d30c88a9",
   "metadata": {
    "ExecuteTime": {
     "end_time": "2024-02-24T21:21:24.880610Z",
     "start_time": "2024-02-24T21:21:23.900249Z"
    }
   },
   "outputs": [
    {
     "data": {
      "text/html": [
       "<div>\n",
       "<style scoped>\n",
       "    .dataframe tbody tr th:only-of-type {\n",
       "        vertical-align: middle;\n",
       "    }\n",
       "\n",
       "    .dataframe tbody tr th {\n",
       "        vertical-align: top;\n",
       "    }\n",
       "\n",
       "    .dataframe thead th {\n",
       "        text-align: right;\n",
       "    }\n",
       "</style>\n",
       "<table border=\"1\" class=\"dataframe\">\n",
       "  <thead>\n",
       "    <tr style=\"text-align: right;\">\n",
       "      <th></th>\n",
       "      <th>Company_Name</th>\n",
       "      <th>Country</th>\n",
       "      <th>Market_Cap</th>\n",
       "      <th>P/E_Ratio</th>\n",
       "      <th>Dividend</th>\n",
       "    </tr>\n",
       "  </thead>\n",
       "  <tbody>\n",
       "    <tr>\n",
       "      <th>0</th>\n",
       "      <td>Microsoft DRC</td>\n",
       "      <td>Argentina</td>\n",
       "      <td>2.557400e+09</td>\n",
       "      <td>36.97</td>\n",
       "      <td>0.10</td>\n",
       "    </tr>\n",
       "    <tr>\n",
       "      <th>1</th>\n",
       "      <td>Apple DRC</td>\n",
       "      <td>Argentina</td>\n",
       "      <td>2.364020e+09</td>\n",
       "      <td>28.31</td>\n",
       "      <td>0.03</td>\n",
       "    </tr>\n",
       "    <tr>\n",
       "      <th>2</th>\n",
       "      <td>NVIDIA</td>\n",
       "      <td>Argentina</td>\n",
       "      <td>1.627070e+09</td>\n",
       "      <td>65.68</td>\n",
       "      <td>0.00</td>\n",
       "    </tr>\n",
       "    <tr>\n",
       "      <th>3</th>\n",
       "      <td>Broadcom</td>\n",
       "      <td>Argentina</td>\n",
       "      <td>5.124900e+08</td>\n",
       "      <td>34.55</td>\n",
       "      <td>0.34</td>\n",
       "    </tr>\n",
       "    <tr>\n",
       "      <th>4</th>\n",
       "      <td>Taiwan Semiconductor Manufacturing Co</td>\n",
       "      <td>Argentina</td>\n",
       "      <td>4.801000e+08</td>\n",
       "      <td>19.98</td>\n",
       "      <td>0.19</td>\n",
       "    </tr>\n",
       "  </tbody>\n",
       "</table>\n",
       "</div>"
      ],
      "text/plain": [
       "                            Company_Name    Country    Market_Cap  P/E_Ratio  \\\n",
       "0                          Microsoft DRC  Argentina  2.557400e+09      36.97   \n",
       "1                              Apple DRC  Argentina  2.364020e+09      28.31   \n",
       "2                                 NVIDIA  Argentina  1.627070e+09      65.68   \n",
       "3                               Broadcom  Argentina  5.124900e+08      34.55   \n",
       "4  Taiwan Semiconductor Manufacturing Co  Argentina  4.801000e+08      19.98   \n",
       "\n",
       "   Dividend  \n",
       "0      0.10  \n",
       "1      0.03  \n",
       "2      0.00  \n",
       "3      0.34  \n",
       "4      0.19  "
      ]
     },
     "execution_count": 2,
     "metadata": {},
     "output_type": "execute_result"
    }
   ],
   "source": [
    "# Loading Excel Table into DataFrame\n",
    "\n",
    "df = pd.read_excel(\"Project 3 Data.xlsx\")\n",
    "\n",
    "\n",
    "# Checking the dataframe\n",
    "df.head()"
   ]
  },
  {
   "cell_type": "code",
   "execution_count": 3,
   "id": "0449dfad",
   "metadata": {
    "ExecuteTime": {
     "end_time": "2024-02-24T21:21:24.953243Z",
     "start_time": "2024-02-24T21:21:24.893801Z"
    }
   },
   "outputs": [
    {
     "data": {
      "text/plain": [
       "array(['Argentina', 'Australia', 'Brazil', 'Canada', 'China', 'France',\n",
       "       'Germany', 'India', 'Indonesia', 'Italy', 'Japan', 'Mexico',\n",
       "       'Russia', 'Saudi Arabia', 'South Korea', 'Turkey',\n",
       "       'United Kingdom', 'USA', 'EU'], dtype=object)"
      ]
     },
     "execution_count": 3,
     "metadata": {},
     "output_type": "execute_result"
    }
   ],
   "source": [
    "# Finding unique countries\n",
    "\n",
    "Countries = df['Country'].unique()\n",
    "\n",
    "Countries"
   ]
  },
  {
   "cell_type": "code",
   "execution_count": 4,
   "id": "c2ea60c2",
   "metadata": {
    "ExecuteTime": {
     "end_time": "2024-02-24T21:21:25.195750Z",
     "start_time": "2024-02-24T21:21:24.961258Z"
    }
   },
   "outputs": [
    {
     "data": {
      "text/html": [
       "<div>\n",
       "<style scoped>\n",
       "    .dataframe tbody tr th:only-of-type {\n",
       "        vertical-align: middle;\n",
       "    }\n",
       "\n",
       "    .dataframe tbody tr th {\n",
       "        vertical-align: top;\n",
       "    }\n",
       "\n",
       "    .dataframe thead th {\n",
       "        text-align: right;\n",
       "    }\n",
       "</style>\n",
       "<table border=\"1\" class=\"dataframe\">\n",
       "  <thead>\n",
       "    <tr style=\"text-align: right;\">\n",
       "      <th></th>\n",
       "      <th>Company_Name</th>\n",
       "      <th>Market_Cap</th>\n",
       "      <th>P/E_Ratio</th>\n",
       "      <th>Dividend</th>\n",
       "    </tr>\n",
       "    <tr>\n",
       "      <th>Country</th>\n",
       "      <th></th>\n",
       "      <th></th>\n",
       "      <th></th>\n",
       "      <th></th>\n",
       "    </tr>\n",
       "  </thead>\n",
       "  <tbody>\n",
       "    <tr>\n",
       "      <th>Argentina</th>\n",
       "      <td>Microsoft DRC</td>\n",
       "      <td>2.557400e+09</td>\n",
       "      <td>36.97</td>\n",
       "      <td>0.10</td>\n",
       "    </tr>\n",
       "    <tr>\n",
       "      <th>Argentina</th>\n",
       "      <td>Apple DRC</td>\n",
       "      <td>2.364020e+09</td>\n",
       "      <td>28.31</td>\n",
       "      <td>0.03</td>\n",
       "    </tr>\n",
       "    <tr>\n",
       "      <th>Argentina</th>\n",
       "      <td>NVIDIA</td>\n",
       "      <td>1.627070e+09</td>\n",
       "      <td>65.68</td>\n",
       "      <td>0.00</td>\n",
       "    </tr>\n",
       "    <tr>\n",
       "      <th>Argentina</th>\n",
       "      <td>Broadcom</td>\n",
       "      <td>5.124900e+08</td>\n",
       "      <td>34.55</td>\n",
       "      <td>0.34</td>\n",
       "    </tr>\n",
       "    <tr>\n",
       "      <th>Argentina</th>\n",
       "      <td>Taiwan Semiconductor Manufacturing Co</td>\n",
       "      <td>4.801000e+08</td>\n",
       "      <td>19.98</td>\n",
       "      <td>0.19</td>\n",
       "    </tr>\n",
       "  </tbody>\n",
       "</table>\n",
       "</div>"
      ],
      "text/plain": [
       "                                    Company_Name    Market_Cap  P/E_Ratio  \\\n",
       "Country                                                                     \n",
       "Argentina                          Microsoft DRC  2.557400e+09      36.97   \n",
       "Argentina                              Apple DRC  2.364020e+09      28.31   \n",
       "Argentina                                 NVIDIA  1.627070e+09      65.68   \n",
       "Argentina                               Broadcom  5.124900e+08      34.55   \n",
       "Argentina  Taiwan Semiconductor Manufacturing Co  4.801000e+08      19.98   \n",
       "\n",
       "           Dividend  \n",
       "Country              \n",
       "Argentina      0.10  \n",
       "Argentina      0.03  \n",
       "Argentina      0.00  \n",
       "Argentina      0.34  \n",
       "Argentina      0.19  "
      ]
     },
     "execution_count": 4,
     "metadata": {},
     "output_type": "execute_result"
    }
   ],
   "source": [
    "# Setting Country column as Index\n",
    "\n",
    "Final_df = df.set_index('Country')\n",
    "\n",
    "\n",
    "# Checking the final DataFrame\n",
    "\n",
    "Final_df.head()"
   ]
  }
 ],
 "metadata": {
  "kernelspec": {
   "display_name": "Python 3 (ipykernel)",
   "language": "python",
   "name": "python3"
  },
  "language_info": {
   "codemirror_mode": {
    "name": "ipython",
    "version": 3
   },
   "file_extension": ".py",
   "mimetype": "text/x-python",
   "name": "python",
   "nbconvert_exporter": "python",
   "pygments_lexer": "ipython3",
   "version": "3.11.5"
  }
 },
 "nbformat": 4,
 "nbformat_minor": 5
}
